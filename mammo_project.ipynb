{
 "cells": [
  {
   "cell_type": "markdown",
   "id": "8de66df1",
   "metadata": {},
   "source": [
    "## Importing libraries"
   ]
  },
  {
   "cell_type": "code",
   "execution_count": 1,
   "id": "5b39f89a",
   "metadata": {},
   "outputs": [],
   "source": [
    "import pandas as pd\n",
    "import numpy as np\n",
    "import seaborn as sns\n",
    "from matplotlib import pyplot\n",
    "import matplotlib.pyplot as plt\n",
    "from sklearn.metrics import confusion_matrix\n",
    "from sklearn.model_selection import train_test_split\n",
    "from sklearn.linear_model import LogisticRegression\n",
    "from sklearn.neighbors import KNeighborsClassifier\n",
    "from sklearn.naive_bayes import GaussianNB\n",
    "from sklearn.svm import SVC\n",
    "from sklearn.preprocessing import MinMaxScaler\n",
    "from sklearn.tree import DecisionTreeClassifier\n",
    "from sklearn.model_selection import KFold\n",
    "from sklearn.feature_selection import SelectKBest\n",
    "from sklearn.feature_selection import f_classif\n",
    "from sklearn.preprocessing import OneHotEncoder\n",
    "from tensorflow import keras\n",
    "from tensorflow.keras.models import Sequential\n",
    "from tensorflow.keras.layers import Dense, Dropout"
   ]
  },
  {
   "cell_type": "markdown",
   "id": "1c1e87d9",
   "metadata": {},
   "source": [
    "## Extracting data"
   ]
  },
  {
   "cell_type": "code",
   "execution_count": 2,
   "id": "a0b663a4",
   "metadata": {},
   "outputs": [
    {
     "name": "stdout",
     "output_type": "stream",
     "text": [
      "(961, 6)\n"
     ]
    }
   ],
   "source": [
    "mammo_df = pd.read_csv('mammographic_masses.data.txt',\n",
    "                       names=['bi-rads','age','shape','margin','density','severity'],na_values='?')\n",
    "print(mammo_df.shape)"
   ]
  },
  {
   "cell_type": "code",
   "execution_count": 3,
   "id": "442fd76c",
   "metadata": {},
   "outputs": [
    {
     "data": {
      "text/html": [
       "<div>\n",
       "<style scoped>\n",
       "    .dataframe tbody tr th:only-of-type {\n",
       "        vertical-align: middle;\n",
       "    }\n",
       "\n",
       "    .dataframe tbody tr th {\n",
       "        vertical-align: top;\n",
       "    }\n",
       "\n",
       "    .dataframe thead th {\n",
       "        text-align: right;\n",
       "    }\n",
       "</style>\n",
       "<table border=\"1\" class=\"dataframe\">\n",
       "  <thead>\n",
       "    <tr style=\"text-align: right;\">\n",
       "      <th></th>\n",
       "      <th>bi-rads</th>\n",
       "      <th>age</th>\n",
       "      <th>shape</th>\n",
       "      <th>margin</th>\n",
       "      <th>density</th>\n",
       "      <th>severity</th>\n",
       "    </tr>\n",
       "  </thead>\n",
       "  <tbody>\n",
       "    <tr>\n",
       "      <th>0</th>\n",
       "      <td>5.0</td>\n",
       "      <td>67.0</td>\n",
       "      <td>3.0</td>\n",
       "      <td>5.0</td>\n",
       "      <td>3.0</td>\n",
       "      <td>1</td>\n",
       "    </tr>\n",
       "    <tr>\n",
       "      <th>1</th>\n",
       "      <td>4.0</td>\n",
       "      <td>43.0</td>\n",
       "      <td>1.0</td>\n",
       "      <td>1.0</td>\n",
       "      <td>NaN</td>\n",
       "      <td>1</td>\n",
       "    </tr>\n",
       "    <tr>\n",
       "      <th>2</th>\n",
       "      <td>5.0</td>\n",
       "      <td>58.0</td>\n",
       "      <td>4.0</td>\n",
       "      <td>5.0</td>\n",
       "      <td>3.0</td>\n",
       "      <td>1</td>\n",
       "    </tr>\n",
       "    <tr>\n",
       "      <th>3</th>\n",
       "      <td>4.0</td>\n",
       "      <td>28.0</td>\n",
       "      <td>1.0</td>\n",
       "      <td>1.0</td>\n",
       "      <td>3.0</td>\n",
       "      <td>0</td>\n",
       "    </tr>\n",
       "    <tr>\n",
       "      <th>4</th>\n",
       "      <td>5.0</td>\n",
       "      <td>74.0</td>\n",
       "      <td>1.0</td>\n",
       "      <td>5.0</td>\n",
       "      <td>NaN</td>\n",
       "      <td>1</td>\n",
       "    </tr>\n",
       "  </tbody>\n",
       "</table>\n",
       "</div>"
      ],
      "text/plain": [
       "   bi-rads   age  shape  margin  density  severity\n",
       "0      5.0  67.0    3.0     5.0      3.0         1\n",
       "1      4.0  43.0    1.0     1.0      NaN         1\n",
       "2      5.0  58.0    4.0     5.0      3.0         1\n",
       "3      4.0  28.0    1.0     1.0      3.0         0\n",
       "4      5.0  74.0    1.0     5.0      NaN         1"
      ]
     },
     "execution_count": 3,
     "metadata": {},
     "output_type": "execute_result"
    }
   ],
   "source": [
    "mammo_df.head()"
   ]
  },
  {
   "cell_type": "markdown",
   "id": "3b8db041",
   "metadata": {},
   "source": [
    "The input data has 6 columns - severity is the target variable that we are trying to predict. The below are description of those attributes.\n",
    "\n",
    "BI-RADS assessment: 1 to 5 (ordinal) \n",
    "\n",
    "Age: patient's age in years (integer)\n",
    "\n",
    "Shape: mass shape: round=1 oval=2 lobular=3 irregular=4 (nominal)\n",
    "\n",
    "Margin: mass margin: circumscribed=1 microlobulated=2 obscured=3 ill-defined=4 spiculated=5 (nominal)\n",
    "\n",
    "Density: mass density high=1 iso=2 low=3 fat-containing=4 (ordinal)\n",
    "\n",
    "Severity: benign=0 or malignant=1 (binominal)"
   ]
  },
  {
   "cell_type": "code",
   "execution_count": 4,
   "id": "e5d477a7",
   "metadata": {},
   "outputs": [
    {
     "data": {
      "text/html": [
       "<div>\n",
       "<style scoped>\n",
       "    .dataframe tbody tr th:only-of-type {\n",
       "        vertical-align: middle;\n",
       "    }\n",
       "\n",
       "    .dataframe tbody tr th {\n",
       "        vertical-align: top;\n",
       "    }\n",
       "\n",
       "    .dataframe thead th {\n",
       "        text-align: right;\n",
       "    }\n",
       "</style>\n",
       "<table border=\"1\" class=\"dataframe\">\n",
       "  <thead>\n",
       "    <tr style=\"text-align: right;\">\n",
       "      <th></th>\n",
       "      <th>bi-rads</th>\n",
       "      <th>age</th>\n",
       "      <th>shape</th>\n",
       "      <th>margin</th>\n",
       "      <th>density</th>\n",
       "      <th>severity</th>\n",
       "    </tr>\n",
       "  </thead>\n",
       "  <tbody>\n",
       "    <tr>\n",
       "      <th>count</th>\n",
       "      <td>959.000000</td>\n",
       "      <td>956.000000</td>\n",
       "      <td>930.000000</td>\n",
       "      <td>913.000000</td>\n",
       "      <td>885.000000</td>\n",
       "      <td>961.000000</td>\n",
       "    </tr>\n",
       "    <tr>\n",
       "      <th>mean</th>\n",
       "      <td>4.348279</td>\n",
       "      <td>55.487448</td>\n",
       "      <td>2.721505</td>\n",
       "      <td>2.796276</td>\n",
       "      <td>2.910734</td>\n",
       "      <td>0.463059</td>\n",
       "    </tr>\n",
       "    <tr>\n",
       "      <th>std</th>\n",
       "      <td>1.783031</td>\n",
       "      <td>14.480131</td>\n",
       "      <td>1.242792</td>\n",
       "      <td>1.566546</td>\n",
       "      <td>0.380444</td>\n",
       "      <td>0.498893</td>\n",
       "    </tr>\n",
       "    <tr>\n",
       "      <th>min</th>\n",
       "      <td>0.000000</td>\n",
       "      <td>18.000000</td>\n",
       "      <td>1.000000</td>\n",
       "      <td>1.000000</td>\n",
       "      <td>1.000000</td>\n",
       "      <td>0.000000</td>\n",
       "    </tr>\n",
       "    <tr>\n",
       "      <th>25%</th>\n",
       "      <td>4.000000</td>\n",
       "      <td>45.000000</td>\n",
       "      <td>2.000000</td>\n",
       "      <td>1.000000</td>\n",
       "      <td>3.000000</td>\n",
       "      <td>0.000000</td>\n",
       "    </tr>\n",
       "    <tr>\n",
       "      <th>50%</th>\n",
       "      <td>4.000000</td>\n",
       "      <td>57.000000</td>\n",
       "      <td>3.000000</td>\n",
       "      <td>3.000000</td>\n",
       "      <td>3.000000</td>\n",
       "      <td>0.000000</td>\n",
       "    </tr>\n",
       "    <tr>\n",
       "      <th>75%</th>\n",
       "      <td>5.000000</td>\n",
       "      <td>66.000000</td>\n",
       "      <td>4.000000</td>\n",
       "      <td>4.000000</td>\n",
       "      <td>3.000000</td>\n",
       "      <td>1.000000</td>\n",
       "    </tr>\n",
       "    <tr>\n",
       "      <th>max</th>\n",
       "      <td>55.000000</td>\n",
       "      <td>96.000000</td>\n",
       "      <td>4.000000</td>\n",
       "      <td>5.000000</td>\n",
       "      <td>4.000000</td>\n",
       "      <td>1.000000</td>\n",
       "    </tr>\n",
       "  </tbody>\n",
       "</table>\n",
       "</div>"
      ],
      "text/plain": [
       "          bi-rads         age       shape      margin     density    severity\n",
       "count  959.000000  956.000000  930.000000  913.000000  885.000000  961.000000\n",
       "mean     4.348279   55.487448    2.721505    2.796276    2.910734    0.463059\n",
       "std      1.783031   14.480131    1.242792    1.566546    0.380444    0.498893\n",
       "min      0.000000   18.000000    1.000000    1.000000    1.000000    0.000000\n",
       "25%      4.000000   45.000000    2.000000    1.000000    3.000000    0.000000\n",
       "50%      4.000000   57.000000    3.000000    3.000000    3.000000    0.000000\n",
       "75%      5.000000   66.000000    4.000000    4.000000    3.000000    1.000000\n",
       "max     55.000000   96.000000    4.000000    5.000000    4.000000    1.000000"
      ]
     },
     "execution_count": 4,
     "metadata": {},
     "output_type": "execute_result"
    }
   ],
   "source": [
    "mammo_df.describe()"
   ]
  },
  {
   "cell_type": "markdown",
   "id": "b0aaa28f",
   "metadata": {},
   "source": [
    "Clearly there are null values in our dataset, let us identify and drop the null values. There maybe less scope to replace the null values for this dataset."
   ]
  },
  {
   "cell_type": "markdown",
   "id": "8db8315b",
   "metadata": {},
   "source": [
    "### Remove null values"
   ]
  },
  {
   "cell_type": "code",
   "execution_count": 5,
   "id": "72d87f2b",
   "metadata": {},
   "outputs": [
    {
     "data": {
      "text/plain": [
       "bi-rads      True\n",
       "age          True\n",
       "shape        True\n",
       "margin       True\n",
       "density      True\n",
       "severity    False\n",
       "dtype: bool"
      ]
     },
     "execution_count": 5,
     "metadata": {},
     "output_type": "execute_result"
    }
   ],
   "source": [
    "mammo_df.isnull().any()"
   ]
  },
  {
   "cell_type": "code",
   "execution_count": 6,
   "id": "e2051e80",
   "metadata": {},
   "outputs": [
    {
     "name": "stdout",
     "output_type": "stream",
     "text": [
      "(830, 5)\n"
     ]
    }
   ],
   "source": [
    "mammo_df = mammo_df.dropna(how='any')\n",
    "mammo_df.drop(['bi-rads'],axis=1,inplace=True)\n",
    "mammo_df.reset_index(inplace=True,drop=True)\n",
    "print(mammo_df.shape)"
   ]
  },
  {
   "cell_type": "code",
   "execution_count": 7,
   "id": "350778e2",
   "metadata": {},
   "outputs": [
    {
     "data": {
      "text/html": [
       "<div>\n",
       "<style scoped>\n",
       "    .dataframe tbody tr th:only-of-type {\n",
       "        vertical-align: middle;\n",
       "    }\n",
       "\n",
       "    .dataframe tbody tr th {\n",
       "        vertical-align: top;\n",
       "    }\n",
       "\n",
       "    .dataframe thead th {\n",
       "        text-align: right;\n",
       "    }\n",
       "</style>\n",
       "<table border=\"1\" class=\"dataframe\">\n",
       "  <thead>\n",
       "    <tr style=\"text-align: right;\">\n",
       "      <th></th>\n",
       "      <th>age</th>\n",
       "      <th>shape</th>\n",
       "      <th>margin</th>\n",
       "      <th>density</th>\n",
       "      <th>severity</th>\n",
       "    </tr>\n",
       "  </thead>\n",
       "  <tbody>\n",
       "    <tr>\n",
       "      <th>count</th>\n",
       "      <td>830.000000</td>\n",
       "      <td>830.000000</td>\n",
       "      <td>830.000000</td>\n",
       "      <td>830.000000</td>\n",
       "      <td>830.000000</td>\n",
       "    </tr>\n",
       "    <tr>\n",
       "      <th>mean</th>\n",
       "      <td>55.781928</td>\n",
       "      <td>2.781928</td>\n",
       "      <td>2.813253</td>\n",
       "      <td>2.915663</td>\n",
       "      <td>0.485542</td>\n",
       "    </tr>\n",
       "    <tr>\n",
       "      <th>std</th>\n",
       "      <td>14.671782</td>\n",
       "      <td>1.242361</td>\n",
       "      <td>1.567175</td>\n",
       "      <td>0.350936</td>\n",
       "      <td>0.500092</td>\n",
       "    </tr>\n",
       "    <tr>\n",
       "      <th>min</th>\n",
       "      <td>18.000000</td>\n",
       "      <td>1.000000</td>\n",
       "      <td>1.000000</td>\n",
       "      <td>1.000000</td>\n",
       "      <td>0.000000</td>\n",
       "    </tr>\n",
       "    <tr>\n",
       "      <th>25%</th>\n",
       "      <td>46.000000</td>\n",
       "      <td>2.000000</td>\n",
       "      <td>1.000000</td>\n",
       "      <td>3.000000</td>\n",
       "      <td>0.000000</td>\n",
       "    </tr>\n",
       "    <tr>\n",
       "      <th>50%</th>\n",
       "      <td>57.000000</td>\n",
       "      <td>3.000000</td>\n",
       "      <td>3.000000</td>\n",
       "      <td>3.000000</td>\n",
       "      <td>0.000000</td>\n",
       "    </tr>\n",
       "    <tr>\n",
       "      <th>75%</th>\n",
       "      <td>66.000000</td>\n",
       "      <td>4.000000</td>\n",
       "      <td>4.000000</td>\n",
       "      <td>3.000000</td>\n",
       "      <td>1.000000</td>\n",
       "    </tr>\n",
       "    <tr>\n",
       "      <th>max</th>\n",
       "      <td>96.000000</td>\n",
       "      <td>4.000000</td>\n",
       "      <td>5.000000</td>\n",
       "      <td>4.000000</td>\n",
       "      <td>1.000000</td>\n",
       "    </tr>\n",
       "  </tbody>\n",
       "</table>\n",
       "</div>"
      ],
      "text/plain": [
       "              age       shape      margin     density    severity\n",
       "count  830.000000  830.000000  830.000000  830.000000  830.000000\n",
       "mean    55.781928    2.781928    2.813253    2.915663    0.485542\n",
       "std     14.671782    1.242361    1.567175    0.350936    0.500092\n",
       "min     18.000000    1.000000    1.000000    1.000000    0.000000\n",
       "25%     46.000000    2.000000    1.000000    3.000000    0.000000\n",
       "50%     57.000000    3.000000    3.000000    3.000000    0.000000\n",
       "75%     66.000000    4.000000    4.000000    3.000000    1.000000\n",
       "max     96.000000    4.000000    5.000000    4.000000    1.000000"
      ]
     },
     "execution_count": 7,
     "metadata": {},
     "output_type": "execute_result"
    }
   ],
   "source": [
    "mammo_df.describe()"
   ]
  },
  {
   "cell_type": "markdown",
   "id": "870d93d6",
   "metadata": {},
   "source": [
    "The dataset contains respondents with age in the range between 18 and 96. We removed the bi-rads column which is not a predictive attribute so we dropped it.The shape, margin and density indicate characteristics of the mammographic masses. Severity is our target attribute which has two values 0 and 1, which correspond to benign and malignant mass respectively."
   ]
  },
  {
   "cell_type": "code",
   "execution_count": 8,
   "id": "ce770e23",
   "metadata": {},
   "outputs": [
    {
     "data": {
      "text/html": [
       "<div>\n",
       "<style scoped>\n",
       "    .dataframe tbody tr th:only-of-type {\n",
       "        vertical-align: middle;\n",
       "    }\n",
       "\n",
       "    .dataframe tbody tr th {\n",
       "        vertical-align: top;\n",
       "    }\n",
       "\n",
       "    .dataframe thead th {\n",
       "        text-align: right;\n",
       "    }\n",
       "</style>\n",
       "<table border=\"1\" class=\"dataframe\">\n",
       "  <thead>\n",
       "    <tr style=\"text-align: right;\">\n",
       "      <th></th>\n",
       "      <th>age</th>\n",
       "      <th>shape</th>\n",
       "      <th>margin</th>\n",
       "      <th>density</th>\n",
       "      <th>severity</th>\n",
       "    </tr>\n",
       "  </thead>\n",
       "  <tbody>\n",
       "    <tr>\n",
       "      <th>825</th>\n",
       "      <td>47.0</td>\n",
       "      <td>2.0</td>\n",
       "      <td>1.0</td>\n",
       "      <td>3.0</td>\n",
       "      <td>0</td>\n",
       "    </tr>\n",
       "    <tr>\n",
       "      <th>826</th>\n",
       "      <td>56.0</td>\n",
       "      <td>4.0</td>\n",
       "      <td>5.0</td>\n",
       "      <td>3.0</td>\n",
       "      <td>1</td>\n",
       "    </tr>\n",
       "    <tr>\n",
       "      <th>827</th>\n",
       "      <td>64.0</td>\n",
       "      <td>4.0</td>\n",
       "      <td>5.0</td>\n",
       "      <td>3.0</td>\n",
       "      <td>0</td>\n",
       "    </tr>\n",
       "    <tr>\n",
       "      <th>828</th>\n",
       "      <td>66.0</td>\n",
       "      <td>4.0</td>\n",
       "      <td>5.0</td>\n",
       "      <td>3.0</td>\n",
       "      <td>1</td>\n",
       "    </tr>\n",
       "    <tr>\n",
       "      <th>829</th>\n",
       "      <td>62.0</td>\n",
       "      <td>3.0</td>\n",
       "      <td>3.0</td>\n",
       "      <td>3.0</td>\n",
       "      <td>0</td>\n",
       "    </tr>\n",
       "  </tbody>\n",
       "</table>\n",
       "</div>"
      ],
      "text/plain": [
       "      age  shape  margin  density  severity\n",
       "825  47.0    2.0     1.0      3.0         0\n",
       "826  56.0    4.0     5.0      3.0         1\n",
       "827  64.0    4.0     5.0      3.0         0\n",
       "828  66.0    4.0     5.0      3.0         1\n",
       "829  62.0    3.0     3.0      3.0         0"
      ]
     },
     "execution_count": 8,
     "metadata": {},
     "output_type": "execute_result"
    }
   ],
   "source": [
    "mammo_df.tail()"
   ]
  },
  {
   "cell_type": "markdown",
   "id": "b3af5356",
   "metadata": {},
   "source": [
    "## Exploratory data analysis"
   ]
  },
  {
   "cell_type": "code",
   "execution_count": 9,
   "id": "dd6ea355",
   "metadata": {},
   "outputs": [
    {
     "data": {
      "text/plain": [
       "Text(0.5, 1.0, 'Age distribution')"
      ]
     },
     "execution_count": 9,
     "metadata": {},
     "output_type": "execute_result"
    },
    {
     "data": {
      "image/png": "[encoded data removed]",
      "text/plain": [
       "<Figure size 864x288 with 1 Axes>"
      ]
     },
     "metadata": {
      "needs_background": "light"
     },
     "output_type": "display_data"
    }
   ],
   "source": [
    "mammo_eda = mammo_df.copy()\n",
    "mammo_eda.replace({'shape': {1: 'round', 2: 'oval', 3: 'lobular', 4: 'irregular'},\n",
    "                   'margin': {1: 'circumscribed', 2: 'microlobulated', 3: 'obscured', 4: 'ill-defined', 5: 'spiculated'},\n",
    "                   'density': {1: 'high', 2: 'iso', 3: 'low', 4: 'fat-containing'},\n",
    "                   'severity': {1: 'malignant', 0: 'benign'}}, inplace=True)\n",
    "plt.figure(figsize=(12,4))\n",
    "fig = sns.histplot(data=mammo_eda,x='age',bins=100,kde=True)\n",
    "fig.set_title('Age distribution')"
   ]
  },
  {
   "cell_type": "markdown",
   "id": "bde054d5",
   "metadata": {},
   "source": [
    "We replaced the numerical values in our dataset - shape, margin and density with the corresponding attribute so that we can explore the dataset visually. The age distribution shows the variable is almost normally distributed with mean around 60."
   ]
  },
  {
   "cell_type": "code",
   "execution_count": 10,
   "id": "8f40d8bc",
   "metadata": {},
   "outputs": [
    {
     "data": {
      "text/plain": [
       "Text(0.5, 1.0, 'Density value counts')"
      ]
     },
     "execution_count": 10,
     "metadata": {},
     "output_type": "execute_result"
    },
    {
     "data": {
      "image/png": "[encoded data removed]",
      "text/plain": [
       "<Figure size 1152x864 with 4 Axes>"
      ]
     },
     "metadata": {
      "needs_background": "light"
     },
     "output_type": "display_data"
    }
   ],
   "source": [
    "fig, ax = plt.subplots(2,2,figsize=(16,12))\n",
    "\n",
    "sev = sns.countplot(ax=ax[0,0],x=mammo_eda['severity'])\n",
    "for i in sev.containers:\n",
    "    sev.bar_label(i,)\n",
    "ax[0,0].set_title('Severity value counts')\n",
    "shp = sns.countplot(ax=ax[0,1],x=mammo_eda['shape'])\n",
    "for i in shp.containers:\n",
    "    shp.bar_label(i,)\n",
    "ax[0,1].set_title('Shape value counts')\n",
    "mar = sns.countplot(ax=ax[1,0],x=mammo_eda['margin'])\n",
    "for i in mar.containers:\n",
    "    mar.bar_label(i,)\n",
    "ax[1,0].set_title('Margin value counts')\n",
    "den = sns.countplot(ax=ax[1,1],x=mammo_eda['density'])\n",
    "for i in den.containers:\n",
    "    den.bar_label(i,)\n",
    "ax[1,1].set_title('Density value counts')"
   ]
  },
  {
   "cell_type": "markdown",
   "id": "b433481e",
   "metadata": {},
   "source": [
    "We can analyze the count plots for each categorical column from our dataset above:\n",
    "1. Severity is almost distributed equally within our dataset - there are 403 malignant observations and 427 benign observations.\n",
    "2. The shape of almost half of the observations are 'irregular'.\n",
    "3. The margin attribute is also variously distributed.\n",
    "4. The density is an ordinal attribute with most of the observations corresponding to low density."
   ]
  },
  {
   "cell_type": "code",
   "execution_count": 11,
   "id": "1ee9f2a3",
   "metadata": {},
   "outputs": [
    {
     "data": {
      "text/plain": [
       "Text(0.5, 1.0, 'Severity per margin')"
      ]
     },
     "execution_count": 11,
     "metadata": {},
     "output_type": "execute_result"
    },
    {
     "data": {
      "image/png": "[encoded data removed]",
      "text/plain": [
       "<Figure size 864x288 with 1 Axes>"
      ]
     },
     "metadata": {
      "needs_background": "light"
     },
     "output_type": "display_data"
    }
   ],
   "source": [
    "plt.figure(figsize=(12,4))\n",
    "hist_mar = sns.histplot(x='margin',hue='severity',data=mammo_eda, kde=True,palette='Blues')\n",
    "for i in hist_mar.containers:\n",
    "    hist_mar.bar_label(i,)\n",
    "hist_mar.set_title('Severity per margin')"
   ]
  },
  {
   "cell_type": "markdown",
   "id": "12677067",
   "metadata": {},
   "source": [
    "We can observe from the above histogram that circumscribed margins usually are benign while other margin classes may have more chance of being malignant."
   ]
  },
  {
   "cell_type": "code",
   "execution_count": 12,
   "id": "0f68c4ce",
   "metadata": {},
   "outputs": [
    {
     "data": {
      "text/plain": [
       "Text(0.5, 1.0, 'Severity per shape')"
      ]
     },
     "execution_count": 12,
     "metadata": {},
     "output_type": "execute_result"
    },
    {
     "data": {
      "image/png": "[encoded data removed]",
      "text/plain": [
       "<Figure size 864x288 with 1 Axes>"
      ]
     },
     "metadata": {
      "needs_background": "light"
     },
     "output_type": "display_data"
    }
   ],
   "source": [
    "plt.figure(figsize=(12,4))\n",
    "hist_shape = sns.histplot(x='shape',hue='severity',data=mammo_eda, kde=True,palette='Reds')\n",
    "for i in hist_shape.containers:\n",
    "    hist_shape.bar_label(i,)\n",
    "hist_shape.set_title('Severity per shape')"
   ]
  },
  {
   "cell_type": "markdown",
   "id": "f75bdfdc",
   "metadata": {},
   "source": [
    "For observations with irregular shapes, there is more chance of the mass being malignant compared to other shapes."
   ]
  },
  {
   "cell_type": "code",
   "execution_count": 13,
   "id": "1cfe48e6",
   "metadata": {},
   "outputs": [
    {
     "data": {
      "text/plain": [
       "Text(0.5, 1.0, 'Severity per density')"
      ]
     },
     "execution_count": 13,
     "metadata": {},
     "output_type": "execute_result"
    },
    {
     "data": {
      "image/png": "[encoded data removed]",
      "text/plain": [
       "<Figure size 864x288 with 1 Axes>"
      ]
     },
     "metadata": {
      "needs_background": "light"
     },
     "output_type": "display_data"
    }
   ],
   "source": [
    "plt.figure(figsize=(12,4))\n",
    "hist_den = sns.histplot(x='density',hue='severity',data=mammo_eda, kde=True,palette='Greens')\n",
    "for i in hist_den.containers:\n",
    "    hist_den.bar_label(i,)\n",
    "hist_den.set_title('Severity per density')"
   ]
  },
  {
   "cell_type": "markdown",
   "id": "d04405e2",
   "metadata": {},
   "source": [
    "Since the distribution of density is very biased with lots of low density observations, there is little that can be concluded from above graph."
   ]
  },
  {
   "cell_type": "code",
   "execution_count": 14,
   "id": "e1f6baef",
   "metadata": {},
   "outputs": [
    {
     "data": {
      "image/png": "[encoded data removed]",
      "text/plain": [
       "<Figure size 1080x720 with 1 Axes>"
      ]
     },
     "metadata": {
      "needs_background": "light"
     },
     "output_type": "display_data"
    }
   ],
   "source": [
    "mammo_eda['bin'] = pd.cut(mammo_eda['age'], bins=range(0,101,10), labels=[f'{l}-{l+10}' for l in range(0,91,10)])\n",
    "plt.figure(figsize=(15,10))\n",
    "hued1 = sns.countplot(x='bin', hue='margin', data=mammo_eda)\n",
    "for i in hued1.containers:\n",
    "    hued1.bar_label(i,)"
   ]
  },
  {
   "cell_type": "markdown",
   "id": "305c7de4",
   "metadata": {},
   "source": [
    "The above countplot shows the distribution of margin attribute among different age groups. Clearly circumscribed margins are more frequent with younger age groups while older aged observations have ill-defined margins more frquently."
   ]
  },
  {
   "cell_type": "code",
   "execution_count": 15,
   "id": "1c5689d4",
   "metadata": {},
   "outputs": [
    {
     "data": {
      "image/png": "[encoded data removed]",
      "text/plain": [
       "<Figure size 1080x720 with 1 Axes>"
      ]
     },
     "metadata": {
      "needs_background": "light"
     },
     "output_type": "display_data"
    }
   ],
   "source": [
    "plt.figure(figsize=(15,10))\n",
    "hued2 = sns.countplot(x='bin', hue='shape', data=mammo_eda)\n",
    "for i in hued2.containers:\n",
    "    hued2.bar_label(i,)"
   ]
  },
  {
   "cell_type": "markdown",
   "id": "72a4c147",
   "metadata": {},
   "source": [
    "Above plot to observe the distribution of shape attribute shows that irregular shape are most frquently associated with an increase in age."
   ]
  },
  {
   "cell_type": "code",
   "execution_count": 16,
   "id": "dd952965",
   "metadata": {},
   "outputs": [
    {
     "data": {
      "image/png": "[encoded data removed]",
      "text/plain": [
       "<Figure size 1080x720 with 1 Axes>"
      ]
     },
     "metadata": {
      "needs_background": "light"
     },
     "output_type": "display_data"
    }
   ],
   "source": [
    "plt.figure(figsize=(15,10))\n",
    "hued3 = sns.countplot(x='bin', hue='density', data=mammo_eda)\n",
    "for i in hued3.containers:\n",
    "    hued3.bar_label(i,)"
   ]
  },
  {
   "cell_type": "markdown",
   "id": "6762edac",
   "metadata": {},
   "source": [
    "The density-age distribution is again pretty inconclusive since low density observations are overly dominant in our dataset."
   ]
  },
  {
   "cell_type": "code",
   "execution_count": 17,
   "id": "e1032c2d",
   "metadata": {},
   "outputs": [
    {
     "data": {
      "image/png": "[encoded data removed]",
      "text/plain": [
       "<Figure size 1080x720 with 1 Axes>"
      ]
     },
     "metadata": {
      "needs_background": "light"
     },
     "output_type": "display_data"
    }
   ],
   "source": [
    "plt.figure(figsize=(15,10))\n",
    "hued4 = sns.countplot(x='bin', hue='severity', data=mammo_eda)\n",
    "for i in hued4.containers:\n",
    "    hued4.bar_label(i,)    "
   ]
  },
  {
   "cell_type": "markdown",
   "id": "f5c61580",
   "metadata": {},
   "source": [
    "The above plot shows that the observational masses are increasingly found to be malignant for very aged observations, i.e. above 60."
   ]
  },
  {
   "cell_type": "code",
   "execution_count": 18,
   "id": "1a5df86f",
   "metadata": {},
   "outputs": [
    {
     "data": {
      "text/plain": [
       "Text(0.5, 1.0, 'Shape vs age')"
      ]
     },
     "execution_count": 18,
     "metadata": {},
     "output_type": "execute_result"
    },
    {
     "data": {
      "image/png": "[encoded data removed]",
      "text/plain": [
       "<Figure size 1080x720 with 1 Axes>"
      ]
     },
     "metadata": {
      "needs_background": "light"
     },
     "output_type": "display_data"
    }
   ],
   "source": [
    "plt.figure(figsize=(15,10))\n",
    "shape_box=sns.boxplot(x='shape',y='age',data=mammo_eda, palette='rainbow')\n",
    "shape_box.set_title('Shape vs age')"
   ]
  },
  {
   "cell_type": "markdown",
   "id": "5a4133ae",
   "metadata": {},
   "source": [
    "Previously we plotted the distribution of attributes across age groups by binning the age value. Now, we have plotted the distribution of different attributes by age using boxplots above. This will be helpful to illustrate further how these attributes vary by age. For example, the above plot suggests that round and oval shapes are more common in younger age groups."
   ]
  },
  {
   "cell_type": "code",
   "execution_count": 19,
   "id": "6650b7ce",
   "metadata": {},
   "outputs": [
    {
     "data": {
      "text/plain": [
       "Text(0.5, 1.0, 'Density vs age')"
      ]
     },
     "execution_count": 19,
     "metadata": {},
     "output_type": "execute_result"
    },
    {
     "data": {
      "image/png": "[encoded data removed]",
      "text/plain": [
       "<Figure size 1080x720 with 1 Axes>"
      ]
     },
     "metadata": {
      "needs_background": "light"
     },
     "output_type": "display_data"
    }
   ],
   "source": [
    "plt.figure(figsize=(15,10))\n",
    "den_box=sns.boxplot(x='density',y='age',data=mammo_eda, palette='rainbow')\n",
    "den_box.set_title('Density vs age')"
   ]
  },
  {
   "cell_type": "code",
   "execution_count": 20,
   "id": "bf18c523",
   "metadata": {},
   "outputs": [
    {
     "data": {
      "text/plain": [
       "Text(0.5, 1.0, 'Margin vs age')"
      ]
     },
     "execution_count": 20,
     "metadata": {},
     "output_type": "execute_result"
    },
    {
     "data": {
      "image/png": "[encoded data removed]",
      "text/plain": [
       "<Figure size 1080x720 with 1 Axes>"
      ]
     },
     "metadata": {
      "needs_background": "light"
     },
     "output_type": "display_data"
    }
   ],
   "source": [
    "plt.figure(figsize=(15,10))\n",
    "mrg_box=sns.boxplot(x='margin',y='age',data=mammo_eda, palette='rainbow')\n",
    "mrg_box.set_title('Margin vs age')"
   ]
  },
  {
   "cell_type": "markdown",
   "id": "14ab2e54",
   "metadata": {},
   "source": [
    "Again, we see that the circumscribed observations are mostly associated with less aged observations. There is not significant variation between other margins."
   ]
  },
  {
   "cell_type": "code",
   "execution_count": 21,
   "id": "5de8725c",
   "metadata": {},
   "outputs": [
    {
     "data": {
      "text/plain": [
       "Text(0.5, 1.0, 'Severity vs age')"
      ]
     },
     "execution_count": 21,
     "metadata": {},
     "output_type": "execute_result"
    },
    {
     "data": {
      "image/png": "[encoded data removed]",
      "text/plain": [
       "<Figure size 1080x720 with 1 Axes>"
      ]
     },
     "metadata": {
      "needs_background": "light"
     },
     "output_type": "display_data"
    }
   ],
   "source": [
    "plt.figure(figsize=(15,10))\n",
    "sev_box=sns.boxplot(x='severity',y='age',data=mammo_eda, palette='rainbow')\n",
    "sev_box.set_title('Severity vs age')"
   ]
  },
  {
   "cell_type": "markdown",
   "id": "3d8db8fd",
   "metadata": {},
   "source": [
    "The benign observations mostly correspond to younger aged observations with mean around 50. Malignant observations have a mean of around 65."
   ]
  },
  {
   "cell_type": "markdown",
   "id": "a5c4d780",
   "metadata": {},
   "source": [
    "## Model training"
   ]
  },
  {
   "cell_type": "markdown",
   "id": "0c0ab6c9",
   "metadata": {},
   "source": [
    "### Train test split"
   ]
  },
  {
   "cell_type": "code",
   "execution_count": 22,
   "id": "9a6293fe",
   "metadata": {},
   "outputs": [],
   "source": [
    "X_train, X_test, y_train, y_test = train_test_split(mammo_df.drop(['severity'],axis=1),\n",
    "                                                    mammo_df['severity'],test_size=0.25, random_state=42)"
   ]
  },
  {
   "cell_type": "markdown",
   "id": "f08efdc6",
   "metadata": {},
   "source": [
    "We have split the data into train and test sets with 75% allocation to training."
   ]
  },
  {
   "cell_type": "code",
   "execution_count": 23,
   "id": "a2a547f3",
   "metadata": {},
   "outputs": [
    {
     "data": {
      "text/html": [
       "<div>\n",
       "<style scoped>\n",
       "    .dataframe tbody tr th:only-of-type {\n",
       "        vertical-align: middle;\n",
       "    }\n",
       "\n",
       "    .dataframe tbody tr th {\n",
       "        vertical-align: top;\n",
       "    }\n",
       "\n",
       "    .dataframe thead th {\n",
       "        text-align: right;\n",
       "    }\n",
       "</style>\n",
       "<table border=\"1\" class=\"dataframe\">\n",
       "  <thead>\n",
       "    <tr style=\"text-align: right;\">\n",
       "      <th></th>\n",
       "      <th>age</th>\n",
       "      <th>shape</th>\n",
       "      <th>margin</th>\n",
       "      <th>density</th>\n",
       "    </tr>\n",
       "  </thead>\n",
       "  <tbody>\n",
       "    <tr>\n",
       "      <th>90</th>\n",
       "      <td>41.0</td>\n",
       "      <td>1.0</td>\n",
       "      <td>1.0</td>\n",
       "      <td>3.0</td>\n",
       "    </tr>\n",
       "    <tr>\n",
       "      <th>777</th>\n",
       "      <td>57.0</td>\n",
       "      <td>3.0</td>\n",
       "      <td>3.0</td>\n",
       "      <td>3.0</td>\n",
       "    </tr>\n",
       "    <tr>\n",
       "      <th>181</th>\n",
       "      <td>73.0</td>\n",
       "      <td>4.0</td>\n",
       "      <td>4.0</td>\n",
       "      <td>3.0</td>\n",
       "    </tr>\n",
       "    <tr>\n",
       "      <th>764</th>\n",
       "      <td>41.0</td>\n",
       "      <td>1.0</td>\n",
       "      <td>1.0</td>\n",
       "      <td>3.0</td>\n",
       "    </tr>\n",
       "    <tr>\n",
       "      <th>380</th>\n",
       "      <td>40.0</td>\n",
       "      <td>4.0</td>\n",
       "      <td>3.0</td>\n",
       "      <td>3.0</td>\n",
       "    </tr>\n",
       "  </tbody>\n",
       "</table>\n",
       "</div>"
      ],
      "text/plain": [
       "      age  shape  margin  density\n",
       "90   41.0    1.0     1.0      3.0\n",
       "777  57.0    3.0     3.0      3.0\n",
       "181  73.0    4.0     4.0      3.0\n",
       "764  41.0    1.0     1.0      3.0\n",
       "380  40.0    4.0     3.0      3.0"
      ]
     },
     "execution_count": 23,
     "metadata": {},
     "output_type": "execute_result"
    }
   ],
   "source": [
    "X_train.head()"
   ]
  },
  {
   "cell_type": "code",
   "execution_count": 24,
   "id": "4cb6dfbc",
   "metadata": {},
   "outputs": [
    {
     "data": {
      "text/plain": [
       "90     0\n",
       "777    1\n",
       "181    1\n",
       "764    0\n",
       "380    1\n",
       "Name: severity, dtype: int64"
      ]
     },
     "execution_count": 24,
     "metadata": {},
     "output_type": "execute_result"
    }
   ],
   "source": [
    "y_train[:5]"
   ]
  },
  {
   "cell_type": "code",
   "execution_count": 25,
   "id": "1d1e8a47",
   "metadata": {},
   "outputs": [
    {
     "name": "stdout",
     "output_type": "stream",
     "text": [
      "Training samples percent:  74.93975903614458\n",
      "Test samples percent:  25.060240963855424\n"
     ]
    }
   ],
   "source": [
    "print(\"Training samples percent: \",len(X_train.index)/len(mammo_df.index)*100)\n",
    "print(\"Test samples percent: \",len(X_test.index)/len(mammo_df.index)*100)"
   ]
  },
  {
   "cell_type": "code",
   "execution_count": 26,
   "id": "bf0c3518",
   "metadata": {},
   "outputs": [
    {
     "name": "stdout",
     "output_type": "stream",
     "text": [
      "False values in original set:  0.5144578313253012\n",
      "True values in original set:  0.4855421686746988\n",
      "False values in train set:  0.5160771704180064\n",
      "True values in train set:  0.48392282958199356\n",
      "False values in test set:  0.5096153846153846\n",
      "True values in test set:  0.49038461538461536\n"
     ]
    }
   ],
   "source": [
    "print(\"False values in original set: \", len(mammo_df[mammo_df['severity']==0].index)/len(mammo_df.index))\n",
    "print(\"True values in original set: \", len(mammo_df[mammo_df['severity']==1].index)/len(mammo_df.index))\n",
    "print(\"False values in train set: \", len(y_train[y_train==0].index)/len(y_train.index))\n",
    "print(\"True values in train set: \", len(y_train[y_train==1].index)/len(y_train.index))\n",
    "print(\"False values in test set: \", len(y_test[y_test==0].index)/len(y_test.index))\n",
    "print(\"True values in test set: \", len(y_test[y_test==1].index)/len(y_test.index))"
   ]
  },
  {
   "cell_type": "markdown",
   "id": "09ecdbdf",
   "metadata": {},
   "source": [
    "The benign and malignant observations are almost equally spread out in trianing and test sets as it is in the original dataset."
   ]
  },
  {
   "cell_type": "markdown",
   "id": "7d203148",
   "metadata": {},
   "source": [
    "## Model evaluation"
   ]
  },
  {
   "cell_type": "code",
   "execution_count": 27,
   "id": "9df0c0c9",
   "metadata": {},
   "outputs": [
    {
     "name": "stdout",
     "output_type": "stream",
     "text": [
      "     Specs       Score\n",
      "2   margin  407.908580\n",
      "1    shape  387.782271\n",
      "0      age  216.427503\n",
      "3  density    3.920754\n"
     ]
    }
   ],
   "source": [
    "bestfeatures = SelectKBest(score_func=f_classif, k=4)\n",
    "\n",
    "fit = bestfeatures.fit(mammo_df.drop('severity',axis=1),mammo_df['severity'])\n",
    "dfscores = pd.DataFrame(fit.scores_)\n",
    "dfcolumns = pd.DataFrame(mammo_df.drop('severity',axis=1).columns)\n",
    " \n",
    "featureScores = pd.concat([dfcolumns,dfscores],axis=1)\n",
    "\n",
    "featureScores.columns = ['Specs','Score']\n",
    "print(featureScores.sort_values(by='Score',ascending=False))"
   ]
  },
  {
   "cell_type": "markdown",
   "id": "49ad9976",
   "metadata": {},
   "source": [
    "We have used the SelectKBest algorithm to identify that density attribute adds very little value to our prediction mechanism. This is probably because most of the observations correspond to low density. At this stage, we can understand that collecting additional data with other density values may help our algorithms to predict better."
   ]
  },
  {
   "cell_type": "markdown",
   "id": "7f17ec8a",
   "metadata": {},
   "source": [
    "Let us evaluate the classification model using different machine learning algorithms. Below, we have defined custom functions to determine the classification metrics and plot a confusion matrix."
   ]
  },
  {
   "cell_type": "code",
   "execution_count": 28,
   "id": "76092094",
   "metadata": {},
   "outputs": [],
   "source": [
    "def cm_func():\n",
    "    cm = confusion_matrix(y_test,y_pred)\n",
    "    df_cm = pd.DataFrame(cm,index= [i for i in ['benign','malignant']], \n",
    "                         columns = [i for i in ['Pred benign','Pred malignant']])\n",
    "    plt.figure(figsize=(7,5))\n",
    "    sns.heatmap(df_cm,annot=True)\n",
    "    return cm\n",
    "def perf(alg):\n",
    "    cm=cm_func()\n",
    "    a = round((cm[0,0] + cm[1,1]) / (cm[0,0] + cm[0,1] + cm[1,0] + cm[1,1]),3)\n",
    "    p = round(cm[1,1] / (cm[1,1] + cm[0,1]),3)\n",
    "    r = round(cm[1,1] / (cm[1,1] + cm[1,0]),3)\n",
    "    f = round((2 * p * r) / (p + r),3)\n",
    "    perf_comp[alg] = [a,p,r,f]\n",
    "    print(\"accuracy : \",a)\n",
    "    print(\"precision: \",p)\n",
    "    print(\"recall   : \",r)\n",
    "    print(\"F1 score : \",f)\n",
    "    print(\"\\nConfusion matrix - \",alg)"
   ]
  },
  {
   "cell_type": "code",
   "execution_count": 29,
   "id": "0f482327",
   "metadata": {},
   "outputs": [
    {
     "name": "stdout",
     "output_type": "stream",
     "text": [
      "accuracy :  0.827\n",
      "precision:  0.789\n",
      "recall   :  0.882\n",
      "F1 score :  0.833\n",
      "\n",
      "Confusion matrix -  Logistic Regression\n"
     ]
    },
    {
     "data": {
      "image/png": "[encoded data removed]",
      "text/plain": [
       "<Figure size 504x360 with 2 Axes>"
      ]
     },
     "metadata": {
      "needs_background": "light"
     },
     "output_type": "display_data"
    }
   ],
   "source": [
    "clf = LogisticRegression(solver='liblinear',random_state=42,C=10)\n",
    "clf.fit(X_train,y_train)\n",
    "y_pred = clf.predict(X_test)\n",
    "perf_comp = pd.DataFrame(index=['accuracy','precision','recall','F1 score'])\n",
    "perf('Logistic Regression')"
   ]
  },
  {
   "cell_type": "markdown",
   "id": "c0f43a24",
   "metadata": {},
   "source": [
    "The model provides around 83% accuracy with 24 false positives and 12 false negatives. Generally in healthcare domains, we would focus on reducing the false negatives. The reason behind it being that predictions of benign observations may left untreated further and may cause harmful consequences."
   ]
  },
  {
   "cell_type": "markdown",
   "id": "eb0de6b7",
   "metadata": {},
   "source": [
    "### K Nearest Neighbors"
   ]
  },
  {
   "cell_type": "markdown",
   "id": "87512cbc",
   "metadata": {},
   "source": [
    "Let us try out the K Nearest Neighbors classification. The below hyperparameters provide better classification."
   ]
  },
  {
   "cell_type": "code",
   "execution_count": 30,
   "id": "991f5d28",
   "metadata": {},
   "outputs": [
    {
     "name": "stdout",
     "output_type": "stream",
     "text": [
      "accuracy :  0.832\n",
      "precision:  0.786\n",
      "recall   :  0.902\n",
      "F1 score :  0.84\n",
      "\n",
      "Confusion matrix -  K Nearest Neighbors\n"
     ]
    },
    {
     "data": {
      "image/png": "[encoded data removed]",
      "text/plain": [
       "<Figure size 504x360 with 2 Axes>"
      ]
     },
     "metadata": {
      "needs_background": "light"
     },
     "output_type": "display_data"
    }
   ],
   "source": [
    "knn = KNeighborsClassifier(n_neighbors=16,leaf_size=10)\n",
    "knn.fit(X_train, y_train)\n",
    "y_pred = knn.predict(X_test)\n",
    "perf('K Nearest Neighbors')"
   ]
  },
  {
   "cell_type": "markdown",
   "id": "fe07cce7",
   "metadata": {},
   "source": [
    "KNN has performed similar to Logistic Regression. Let us check if we can get consistent results with this algorithm by using the K-Fold cross validation."
   ]
  },
  {
   "cell_type": "code",
   "execution_count": 31,
   "id": "46fe408a",
   "metadata": {},
   "outputs": [
    {
     "name": "stdout",
     "output_type": "stream",
     "text": [
      "Scores from each Iteration:  [0.8129496402877698, 0.8129496402877698, 0.8129496402877698, 0.8129496402877698, 0.8129496402877698, 0.8129496402877698]\n",
      "Average K-Fold Score : 0.81294964028777\n"
     ]
    }
   ],
   "source": [
    "kf = KFold(n_splits=6, random_state=42, shuffle=True)\n",
    "knn_kf = KNeighborsClassifier(n_neighbors=16,leaf_size=10)\n",
    "\n",
    "scores=[]\n",
    "for i in range(6):\n",
    "    result = next(kf.split(mammo_df), None)\n",
    "    X_train_kf = mammo_df.drop(columns='severity').iloc[result[0]]\n",
    "    X_test_kf = mammo_df.drop(columns='severity').iloc[result[1]]\n",
    "    y_train_kf = mammo_df['severity'].iloc[result[0]]\n",
    "    y_test_kf = mammo_df['severity'].iloc[result[1]]\n",
    "    knn_kf_scaler = MinMaxScaler()\n",
    "    X_train_scaled_kf = knn_kf_scaler.fit_transform(X_train_kf)\n",
    "    X_test_scaled_kf = knn_kf_scaler.fit_transform(X_test_kf)\n",
    "    knn_kf_model = knn_kf.fit(X_train_scaled_kf,y_train_kf)\n",
    "    y_pred_kf = knn_kf.predict(X_test_scaled_kf)\n",
    "    scores.append(knn_kf_model.score(X_test_scaled_kf,y_test_kf))\n",
    "print('Scores from each Iteration: ', scores)\n",
    "print('Average K-Fold Score :' , np.mean(scores))"
   ]
  },
  {
   "cell_type": "markdown",
   "id": "4b9dc2fe",
   "metadata": {},
   "source": [
    "K Nearest Neighbors provide slightly better results compared to Logistic Regression technique. We may still improve the KNN algorithm by scaling the input features - this is because the age value ranges from 18 to 96 however the other attributes have very small range. Since KNN works based on a distance metric, the age attribute may have huge dominance owing to its range. Let us perform the below preprocessing to improve the prediction performance.\n",
    "1. Standardize the input data so that age attribute is brought to range 0-1.\n",
    "2. One-hot encoding of shape and margin categorical attributes."
   ]
  },
  {
   "cell_type": "code",
   "execution_count": 32,
   "id": "c170dad6",
   "metadata": {},
   "outputs": [
    {
     "data": {
      "text/html": [
       "<div>\n",
       "<style scoped>\n",
       "    .dataframe tbody tr th:only-of-type {\n",
       "        vertical-align: middle;\n",
       "    }\n",
       "\n",
       "    .dataframe tbody tr th {\n",
       "        vertical-align: top;\n",
       "    }\n",
       "\n",
       "    .dataframe thead th {\n",
       "        text-align: right;\n",
       "    }\n",
       "</style>\n",
       "<table border=\"1\" class=\"dataframe\">\n",
       "  <thead>\n",
       "    <tr style=\"text-align: right;\">\n",
       "      <th></th>\n",
       "      <th>age</th>\n",
       "      <th>density</th>\n",
       "      <th>severity</th>\n",
       "      <th>shape_lobular</th>\n",
       "      <th>shape_oval</th>\n",
       "      <th>shape_round</th>\n",
       "      <th>margin_ill-defined</th>\n",
       "      <th>margin_microlobulated</th>\n",
       "      <th>margin_obscured</th>\n",
       "      <th>margin_spiculated</th>\n",
       "    </tr>\n",
       "  </thead>\n",
       "  <tbody>\n",
       "    <tr>\n",
       "      <th>0</th>\n",
       "      <td>67.0</td>\n",
       "      <td>3.0</td>\n",
       "      <td>1</td>\n",
       "      <td>1.0</td>\n",
       "      <td>0.0</td>\n",
       "      <td>0.0</td>\n",
       "      <td>0.0</td>\n",
       "      <td>0.0</td>\n",
       "      <td>0.0</td>\n",
       "      <td>1.0</td>\n",
       "    </tr>\n",
       "    <tr>\n",
       "      <th>1</th>\n",
       "      <td>58.0</td>\n",
       "      <td>3.0</td>\n",
       "      <td>1</td>\n",
       "      <td>0.0</td>\n",
       "      <td>0.0</td>\n",
       "      <td>0.0</td>\n",
       "      <td>0.0</td>\n",
       "      <td>0.0</td>\n",
       "      <td>0.0</td>\n",
       "      <td>1.0</td>\n",
       "    </tr>\n",
       "  </tbody>\n",
       "</table>\n",
       "</div>"
      ],
      "text/plain": [
       "    age  density  severity  shape_lobular  shape_oval  shape_round  \\\n",
       "0  67.0      3.0         1            1.0         0.0          0.0   \n",
       "1  58.0      3.0         1            0.0         0.0          0.0   \n",
       "\n",
       "   margin_ill-defined  margin_microlobulated  margin_obscured  \\\n",
       "0                 0.0                    0.0              0.0   \n",
       "1                 0.0                    0.0              0.0   \n",
       "\n",
       "   margin_spiculated  \n",
       "0                1.0  \n",
       "1                1.0  "
      ]
     },
     "execution_count": 32,
     "metadata": {},
     "output_type": "execute_result"
    }
   ],
   "source": [
    "mammo_ohe = mammo_df.copy()\n",
    "mammo_ohe.replace({'shape': {1: 'round', 2: 'oval', 3: 'lobular', 4: 'irregular'},\n",
    "    'margin': {1: 'circumscribed', 2: 'microlobulated', 3: 'obscured', 4: 'ill-defined', 5: 'spiculated'}},\n",
    "                  inplace=True)\n",
    "enc = OneHotEncoder(handle_unknown='ignore')\n",
    "mammo_ohetf = pd.DataFrame(enc.fit_transform(mammo_ohe[['shape','margin']]).toarray(),columns=enc.get_feature_names_out())\n",
    "mammo_ohe = mammo_ohe.join(mammo_ohetf)\n",
    "mammo_ohe.drop(['shape','margin','shape_irregular','margin_circumscribed'],axis=1,inplace=True)\n",
    "mammo_ohe.head(2)"
   ]
  },
  {
   "cell_type": "code",
   "execution_count": 33,
   "id": "76e79191",
   "metadata": {},
   "outputs": [],
   "source": [
    "X_train_ohe, X_test_ohe, y_train, y_test = train_test_split(mammo_ohe.drop(['severity'],axis=1),\n",
    "                                                    mammo_ohe['severity'],test_size=0.25, random_state=42)"
   ]
  },
  {
   "cell_type": "code",
   "execution_count": 34,
   "id": "dfb0a6cf",
   "metadata": {},
   "outputs": [
    {
     "data": {
      "text/html": [
       "<div>\n",
       "<style scoped>\n",
       "    .dataframe tbody tr th:only-of-type {\n",
       "        vertical-align: middle;\n",
       "    }\n",
       "\n",
       "    .dataframe tbody tr th {\n",
       "        vertical-align: top;\n",
       "    }\n",
       "\n",
       "    .dataframe thead th {\n",
       "        text-align: right;\n",
       "    }\n",
       "</style>\n",
       "<table border=\"1\" class=\"dataframe\">\n",
       "  <thead>\n",
       "    <tr style=\"text-align: right;\">\n",
       "      <th></th>\n",
       "      <th>age</th>\n",
       "      <th>density</th>\n",
       "      <th>shape_lobular</th>\n",
       "      <th>shape_oval</th>\n",
       "      <th>shape_round</th>\n",
       "      <th>margin_ill-defined</th>\n",
       "      <th>margin_microlobulated</th>\n",
       "      <th>margin_obscured</th>\n",
       "      <th>margin_spiculated</th>\n",
       "    </tr>\n",
       "  </thead>\n",
       "  <tbody>\n",
       "    <tr>\n",
       "      <th>90</th>\n",
       "      <td>0.285714</td>\n",
       "      <td>3.0</td>\n",
       "      <td>0.0</td>\n",
       "      <td>0.0</td>\n",
       "      <td>1.0</td>\n",
       "      <td>0.0</td>\n",
       "      <td>0.0</td>\n",
       "      <td>0.0</td>\n",
       "      <td>0.0</td>\n",
       "    </tr>\n",
       "    <tr>\n",
       "      <th>777</th>\n",
       "      <td>0.493506</td>\n",
       "      <td>3.0</td>\n",
       "      <td>1.0</td>\n",
       "      <td>0.0</td>\n",
       "      <td>0.0</td>\n",
       "      <td>0.0</td>\n",
       "      <td>0.0</td>\n",
       "      <td>1.0</td>\n",
       "      <td>0.0</td>\n",
       "    </tr>\n",
       "  </tbody>\n",
       "</table>\n",
       "</div>"
      ],
      "text/plain": [
       "          age  density  shape_lobular  shape_oval  shape_round  \\\n",
       "90   0.285714      3.0            0.0         0.0          1.0   \n",
       "777  0.493506      3.0            1.0         0.0          0.0   \n",
       "\n",
       "     margin_ill-defined  margin_microlobulated  margin_obscured  \\\n",
       "90                  0.0                    0.0              0.0   \n",
       "777                 0.0                    0.0              1.0   \n",
       "\n",
       "     margin_spiculated  \n",
       "90                 0.0  \n",
       "777                0.0  "
      ]
     },
     "execution_count": 34,
     "metadata": {},
     "output_type": "execute_result"
    }
   ],
   "source": [
    "scaler = MinMaxScaler()\n",
    "X_train_scl = X_train_ohe.copy()\n",
    "X_test_scl = X_test_ohe.copy()\n",
    "X_train_scl[['age']] = scaler.fit_transform(X_train_scl[['age']])\n",
    "X_test_scl[['age']] = scaler.fit_transform(X_test_scl[['age']])\n",
    "X_train_scl.head(2)"
   ]
  },
  {
   "cell_type": "code",
   "execution_count": 35,
   "id": "5dd19448",
   "metadata": {},
   "outputs": [
    {
     "name": "stdout",
     "output_type": "stream",
     "text": [
      "accuracy :  0.832\n",
      "precision:  0.807\n",
      "recall   :  0.863\n",
      "F1 score :  0.834\n",
      "\n",
      "Confusion matrix -  K Nearest Neighbors (preprocessed)\n"
     ]
    },
    {
     "data": {
      "image/png": "[encoded data removed]",
      "text/plain": [
       "<Figure size 504x360 with 2 Axes>"
      ]
     },
     "metadata": {
      "needs_background": "light"
     },
     "output_type": "display_data"
    }
   ],
   "source": [
    "knn = KNeighborsClassifier(n_neighbors=16,leaf_size=10)\n",
    "knn.fit(X_train_scl, y_train)\n",
    "y_pred = knn.predict(X_test_scl)\n",
    "perf('K Nearest Neighbors (preprocessed)')"
   ]
  },
  {
   "cell_type": "markdown",
   "id": "66fda4ba",
   "metadata": {},
   "source": [
    "Scaling has improved the precision but recall has waned a little. There may still be more scope of improved performance using other methods. "
   ]
  },
  {
   "cell_type": "markdown",
   "id": "46cf5bb9",
   "metadata": {},
   "source": [
    "### Gaussian Naive Bayes"
   ]
  },
  {
   "cell_type": "code",
   "execution_count": 36,
   "id": "2ecba165",
   "metadata": {},
   "outputs": [
    {
     "name": "stdout",
     "output_type": "stream",
     "text": [
      "accuracy :  0.827\n",
      "precision:  0.784\n",
      "recall   :  0.892\n",
      "F1 score :  0.835\n",
      "\n",
      "Confusion matrix -  Gaussian Naive Bayes\n"
     ]
    },
    {
     "data": {
      "image/png": "[encoded data removed]",
      "text/plain": [
       "<Figure size 504x360 with 2 Axes>"
      ]
     },
     "metadata": {
      "needs_background": "light"
     },
     "output_type": "display_data"
    }
   ],
   "source": [
    "gnb = GaussianNB()\n",
    "gnb.fit(X_train, y_train)\n",
    "y_pred = gnb.predict(X_test)\n",
    "perf('Gaussian Naive Bayes')"
   ]
  },
  {
   "cell_type": "markdown",
   "id": "2c28b6fe",
   "metadata": {},
   "source": [
    "Gaussian Naive Bayes provide almost similar results compared to Logistic Regression algorithm."
   ]
  },
  {
   "cell_type": "markdown",
   "id": "69fd3371",
   "metadata": {},
   "source": [
    "### Support Vector Classifier"
   ]
  },
  {
   "cell_type": "code",
   "execution_count": 37,
   "id": "244e2bc9",
   "metadata": {},
   "outputs": [
    {
     "name": "stdout",
     "output_type": "stream",
     "text": [
      "Accuracy on training set: 0.76\n",
      "Accuracy on test set: 0.76\n"
     ]
    }
   ],
   "source": [
    "svc = SVC(gamma='scale')\n",
    "svc.fit(X_train, y_train)\n",
    "\n",
    "print(\"Accuracy on training set: {:.2f}\".format(svc.score(X_train, y_train)))\n",
    "print(\"Accuracy on test set: {:.2f}\".format(svc.score(X_test, y_test)))"
   ]
  },
  {
   "cell_type": "markdown",
   "id": "306de6bf",
   "metadata": {},
   "source": [
    "The accuracy provided by Support Vector Classifier is less. The Support Vector classifier essentially splits the mathematical space by creating a decision boundary between classes. The decision boundary maximizes the distance to the nearest data points from different classes. Hence, the distance between data points affects the decision boundary SVM chooses. In our dataset, the age is an integer ranging between 18 and 96 but the other predictors are very small in range. So, the model can predict better only when all the predictors are scaled to a similar range."
   ]
  },
  {
   "cell_type": "code",
   "execution_count": 39,
   "id": "3d081a9f",
   "metadata": {},
   "outputs": [
    {
     "name": "stdout",
     "output_type": "stream",
     "text": [
      "Accuracy on training set: 0.80\n",
      "Accuracy on test set: 0.83\n"
     ]
    }
   ],
   "source": [
    "svc = SVC(gamma='scale')\n",
    "svc.fit(X_train_scl, y_train)\n",
    "\n",
    "print(\"Accuracy on training set: {:.2f}\".format(svc.score(X_train_scl, y_train)))\n",
    "print(\"Accuracy on test set: {:.2f}\".format(svc.score(X_test_scl, y_test)))"
   ]
  },
  {
   "cell_type": "markdown",
   "id": "b645d1d4",
   "metadata": {},
   "source": [
    "We can see the performance has improved now, let us input the scaled data again to SVC algorithm. Let us decrease the strength of regularization to see if it improves the prediction."
   ]
  },
  {
   "cell_type": "code",
   "execution_count": 40,
   "id": "041f4317",
   "metadata": {},
   "outputs": [
    {
     "name": "stdout",
     "output_type": "stream",
     "text": [
      "accuracy :  0.827\n",
      "precision:  0.795\n",
      "recall   :  0.873\n",
      "F1 score :  0.832\n",
      "\n",
      "Confusion matrix -  Gaussian NB (preprocessed)\n"
     ]
    },
    {
     "data": {
      "image/png": "[encoded data removed]",
      "text/plain": [
       "<Figure size 504x360 with 2 Axes>"
      ]
     },
     "metadata": {
      "needs_background": "light"
     },
     "output_type": "display_data"
    }
   ],
   "source": [
    "svc = SVC(C=1000,gamma='scale')\n",
    "svc.fit(X_train_scl, y_train)\n",
    "y_pred = svc.predict(X_test_scl)\n",
    "perf('Gaussian NB (preprocessed)')"
   ]
  },
  {
   "cell_type": "markdown",
   "id": "02e4b2e1",
   "metadata": {},
   "source": [
    "The performance of Support Vector Classifier is comparable to other earlier models. Let us try the Decision Tree classifier algorithm."
   ]
  },
  {
   "cell_type": "markdown",
   "id": "0aac6e41",
   "metadata": {},
   "source": [
    "### Decision Tree Classifier"
   ]
  },
  {
   "cell_type": "code",
   "execution_count": 41,
   "id": "d911d6ef",
   "metadata": {},
   "outputs": [
    {
     "name": "stdout",
     "output_type": "stream",
     "text": [
      "accuracy :  0.832\n",
      "precision:  0.777\n",
      "recall   :  0.922\n",
      "F1 score :  0.843\n",
      "\n",
      "Confusion matrix -  Decision Tree Classifier\n"
     ]
    },
    {
     "data": {
      "image/png": "[encoded data removed]",
      "text/plain": [
       "<Figure size 504x360 with 2 Axes>"
      ]
     },
     "metadata": {
      "needs_background": "light"
     },
     "output_type": "display_data"
    }
   ],
   "source": [
    "dtree = DecisionTreeClassifier(criterion='gini',random_state=10,max_depth=5,min_samples_leaf=7)\n",
    "dtree.fit(X_train,y_train)\n",
    "y_pred = dtree.predict(X_test)\n",
    "perf('Decision Tree Classifier')"
   ]
  },
  {
   "cell_type": "markdown",
   "id": "294cc8c6",
   "metadata": {},
   "source": [
    "The precision provided by Decision Tree Classifier is very low."
   ]
  },
  {
   "cell_type": "code",
   "execution_count": 42,
   "id": "7e75efb6",
   "metadata": {},
   "outputs": [
    {
     "name": "stdout",
     "output_type": "stream",
     "text": [
      "accuracy :  0.808\n",
      "precision:  0.777\n",
      "recall   :  0.853\n",
      "F1 score :  0.813\n",
      "\n",
      "Confusion matrix -  Decision Tree Classifier (preprocessed)\n"
     ]
    },
    {
     "data": {
      "image/png": "[encoded data removed]",
      "text/plain": [
       "<Figure size 504x360 with 2 Axes>"
      ]
     },
     "metadata": {
      "needs_background": "light"
     },
     "output_type": "display_data"
    }
   ],
   "source": [
    "dtree = DecisionTreeClassifier(criterion='gini',random_state=42,max_depth=5,min_samples_leaf=7)\n",
    "dtree.fit(X_train_scl,y_train)\n",
    "y_pred = dtree.predict(X_test_scl)\n",
    "perf('Decision Tree Classifier (preprocessed)')"
   ]
  },
  {
   "cell_type": "markdown",
   "id": "c944fb9e",
   "metadata": {},
   "source": [
    "The sclaing and one-hot encoding has probably decreased the performance of the classifier. Let us proceed with other methods."
   ]
  },
  {
   "cell_type": "markdown",
   "id": "e8bcff76",
   "metadata": {},
   "source": [
    "## Neural network classifier (using Keras)"
   ]
  },
  {
   "cell_type": "code",
   "execution_count": 43,
   "id": "83fe9759",
   "metadata": {},
   "outputs": [],
   "source": [
    "model = Sequential()\n",
    "model.add(Dense(500, activation='relu', input_shape=(4,)))\n",
    "model.add(Dropout(0.2))\n",
    "model.add(Dense(1, activation='sigmoid'))"
   ]
  },
  {
   "cell_type": "code",
   "execution_count": 44,
   "id": "ceb22412",
   "metadata": {},
   "outputs": [
    {
     "name": "stdout",
     "output_type": "stream",
     "text": [
      "Model: \"sequential\"\n",
      "_________________________________________________________________\n",
      " Layer (type)                Output Shape              Param #   \n",
      "=================================================================\n",
      " dense (Dense)               (None, 500)               2500      \n",
      "                                                                 \n",
      " dropout (Dropout)           (None, 500)               0         \n",
      "                                                                 \n",
      " dense_1 (Dense)             (None, 1)                 501       \n",
      "                                                                 \n",
      "=================================================================\n",
      "Total params: 3,001\n",
      "Trainable params: 3,001\n",
      "Non-trainable params: 0\n",
      "_________________________________________________________________\n"
     ]
    }
   ],
   "source": [
    "model.summary()"
   ]
  },
  {
   "cell_type": "code",
   "execution_count": 45,
   "id": "dbfc75d9",
   "metadata": {},
   "outputs": [],
   "source": [
    "model.compile(loss='binary_crossentropy', optimizer='adam', metrics=['accuracy'])"
   ]
  },
  {
   "cell_type": "code",
   "execution_count": 46,
   "id": "63abd18d",
   "metadata": {},
   "outputs": [],
   "source": [
    "history = model.fit(X_train, y_train, epochs=200, verbose=0, validation_data=(X_test, y_test))"
   ]
  },
  {
   "cell_type": "code",
   "execution_count": 47,
   "id": "e5fb0bbc",
   "metadata": {},
   "outputs": [
    {
     "data": {
      "image/png": "[encoded data removed]",
      "text/plain": [
       "<Figure size 432x288 with 2 Axes>"
      ]
     },
     "metadata": {
      "needs_background": "light"
     },
     "output_type": "display_data"
    }
   ],
   "source": [
    "pyplot.subplot(211)\n",
    "pyplot.title('Loss')\n",
    "pyplot.plot(history.history['loss'], label='train')\n",
    "pyplot.plot(history.history['val_loss'], label='test')\n",
    "pyplot.legend()\n",
    "pyplot.subplot(212)\n",
    "pyplot.title('Accuracy')\n",
    "pyplot.plot(history.history['accuracy'], label='train')\n",
    "pyplot.plot(history.history['val_accuracy'], label='test')\n",
    "pyplot.legend()\n",
    "pyplot.show()"
   ]
  },
  {
   "cell_type": "code",
   "execution_count": 48,
   "id": "f91cb519",
   "metadata": {},
   "outputs": [
    {
     "name": "stdout",
     "output_type": "stream",
     "text": [
      "Test loss: 0.4194892346858978\n",
      "Test accuracy: 0.8125\n"
     ]
    }
   ],
   "source": [
    "score = model.evaluate(X_test, y_test, verbose=0)\n",
    "print('Test loss:', score[0])\n",
    "print('Test accuracy:', score[1])\n",
    "y_pred_proba = model.predict(X_test)"
   ]
  },
  {
   "cell_type": "code",
   "execution_count": 49,
   "id": "604e0c29",
   "metadata": {},
   "outputs": [
    {
     "name": "stdout",
     "output_type": "stream",
     "text": [
      "accuracy :  0.812\n",
      "precision:  0.748\n",
      "recall   :  0.931\n",
      "F1 score :  0.83\n",
      "\n",
      "Confusion matrix -  Neural network\n"
     ]
    },
    {
     "data": {
      "image/png": "[encoded data removed]",
      "text/plain": [
       "<Figure size 504x360 with 2 Axes>"
      ]
     },
     "metadata": {
      "needs_background": "light"
     },
     "output_type": "display_data"
    }
   ],
   "source": [
    "y_pred=(y_pred_proba>0.5).astype(\"int32\")\n",
    "perf('Neural network')"
   ]
  },
  {
   "cell_type": "markdown",
   "id": "0a90cd0f",
   "metadata": {},
   "source": [
    "Neural networks have been known to provide better performance with one-hot encoded inputs. We will create another model to compare the predictions."
   ]
  },
  {
   "cell_type": "code",
   "execution_count": 50,
   "id": "5dfd778e",
   "metadata": {},
   "outputs": [],
   "source": [
    "model2 = Sequential()\n",
    "model2.add(Dense(500, activation='relu', input_shape=(9,)))\n",
    "model2.add(Dropout(0.2))\n",
    "model2.add(Dense(1, activation='sigmoid'))"
   ]
  },
  {
   "cell_type": "code",
   "execution_count": 51,
   "id": "acee934c",
   "metadata": {},
   "outputs": [
    {
     "name": "stdout",
     "output_type": "stream",
     "text": [
      "Model: \"sequential_1\"\n",
      "_________________________________________________________________\n",
      " Layer (type)                Output Shape              Param #   \n",
      "=================================================================\n",
      " dense_2 (Dense)             (None, 500)               5000      \n",
      "                                                                 \n",
      " dropout_1 (Dropout)         (None, 500)               0         \n",
      "                                                                 \n",
      " dense_3 (Dense)             (None, 1)                 501       \n",
      "                                                                 \n",
      "=================================================================\n",
      "Total params: 5,501\n",
      "Trainable params: 5,501\n",
      "Non-trainable params: 0\n",
      "_________________________________________________________________\n"
     ]
    }
   ],
   "source": [
    "model2.summary()"
   ]
  },
  {
   "cell_type": "code",
   "execution_count": 52,
   "id": "a88bcd02",
   "metadata": {},
   "outputs": [],
   "source": [
    "model2.compile(loss='binary_crossentropy', optimizer='adam', metrics=['accuracy'])"
   ]
  },
  {
   "cell_type": "code",
   "execution_count": 53,
   "id": "2bee0647",
   "metadata": {},
   "outputs": [],
   "source": [
    "history1 = model2.fit(X_train_scl, y_train, epochs=200, verbose=0, validation_data=(X_test_scl, y_test))"
   ]
  },
  {
   "cell_type": "code",
   "execution_count": 54,
   "id": "23aeb176",
   "metadata": {},
   "outputs": [
    {
     "data": {
      "image/png": "[encoded data removed]",
      "text/plain": [
       "<Figure size 432x288 with 2 Axes>"
      ]
     },
     "metadata": {
      "needs_background": "light"
     },
     "output_type": "display_data"
    }
   ],
   "source": [
    "pyplot.subplot(211)\n",
    "pyplot.title('Loss')\n",
    "pyplot.plot(history1.history['loss'], label='train')\n",
    "pyplot.plot(history1.history['val_loss'], label='test')\n",
    "pyplot.legend()\n",
    "pyplot.subplot(212)\n",
    "pyplot.title('Accuracy')\n",
    "pyplot.plot(history1.history['accuracy'], label='train')\n",
    "pyplot.plot(history1.history['val_accuracy'], label='test')\n",
    "pyplot.legend()\n",
    "pyplot.show()"
   ]
  },
  {
   "cell_type": "code",
   "execution_count": 55,
   "id": "cf06a7fa",
   "metadata": {},
   "outputs": [
    {
     "name": "stdout",
     "output_type": "stream",
     "text": [
      "Test loss: 0.4472821354866028\n",
      "Test accuracy: 0.8413461446762085\n"
     ]
    }
   ],
   "source": [
    "score = model2.evaluate(X_test_scl, y_test, verbose=0)\n",
    "print('Test loss:', score[0])\n",
    "print('Test accuracy:', score[1])\n",
    "y_pred_proba_ohe = model2.predict(X_test_scl)"
   ]
  },
  {
   "cell_type": "code",
   "execution_count": 56,
   "id": "a3d8f68e",
   "metadata": {},
   "outputs": [
    {
     "name": "stdout",
     "output_type": "stream",
     "text": [
      "accuracy :  0.841\n",
      "precision:  0.8\n",
      "recall   :  0.902\n",
      "F1 score :  0.848\n",
      "\n",
      "Confusion matrix -  Neural network (preprocessed)\n"
     ]
    },
    {
     "data": {
      "image/png": "[encoded data removed]",
      "text/plain": [
       "<Figure size 504x360 with 2 Axes>"
      ]
     },
     "metadata": {
      "needs_background": "light"
     },
     "output_type": "display_data"
    }
   ],
   "source": [
    "y_pred=(y_pred_proba_ohe>0.5).astype(\"int32\")\n",
    "perf('Neural network (preprocessed)')"
   ]
  },
  {
   "cell_type": "markdown",
   "id": "9ec29f13",
   "metadata": {},
   "source": [
    "We can observe the performance has improved a slight bit on using the preprocessed inputs."
   ]
  },
  {
   "cell_type": "code",
   "execution_count": 57,
   "id": "90f59df5",
   "metadata": {},
   "outputs": [
    {
     "data": {
      "text/html": [
       "<div>\n",
       "<style scoped>\n",
       "    .dataframe tbody tr th:only-of-type {\n",
       "        vertical-align: middle;\n",
       "    }\n",
       "\n",
       "    .dataframe tbody tr th {\n",
       "        vertical-align: top;\n",
       "    }\n",
       "\n",
       "    .dataframe thead th {\n",
       "        text-align: right;\n",
       "    }\n",
       "</style>\n",
       "<table border=\"1\" class=\"dataframe\">\n",
       "  <thead>\n",
       "    <tr style=\"text-align: right;\">\n",
       "      <th></th>\n",
       "      <th>Logistic Regression</th>\n",
       "      <th>K Nearest Neighbors</th>\n",
       "      <th>K Nearest Neighbors (preprocessed)</th>\n",
       "      <th>Gaussian Naive Bayes</th>\n",
       "      <th>Gaussian NB (preprocessed)</th>\n",
       "      <th>Decision Tree Classifier</th>\n",
       "      <th>Decision Tree Classifier (preprocessed)</th>\n",
       "      <th>Neural network</th>\n",
       "      <th>Neural network (preprocessed)</th>\n",
       "    </tr>\n",
       "  </thead>\n",
       "  <tbody>\n",
       "    <tr>\n",
       "      <th>accuracy</th>\n",
       "      <td>0.827</td>\n",
       "      <td>0.832</td>\n",
       "      <td>0.832</td>\n",
       "      <td>0.827</td>\n",
       "      <td>0.827</td>\n",
       "      <td>0.832</td>\n",
       "      <td>0.808</td>\n",
       "      <td>0.812</td>\n",
       "      <td>0.841</td>\n",
       "    </tr>\n",
       "    <tr>\n",
       "      <th>precision</th>\n",
       "      <td>0.789</td>\n",
       "      <td>0.786</td>\n",
       "      <td>0.807</td>\n",
       "      <td>0.784</td>\n",
       "      <td>0.795</td>\n",
       "      <td>0.777</td>\n",
       "      <td>0.777</td>\n",
       "      <td>0.748</td>\n",
       "      <td>0.800</td>\n",
       "    </tr>\n",
       "    <tr>\n",
       "      <th>recall</th>\n",
       "      <td>0.882</td>\n",
       "      <td>0.902</td>\n",
       "      <td>0.863</td>\n",
       "      <td>0.892</td>\n",
       "      <td>0.873</td>\n",
       "      <td>0.922</td>\n",
       "      <td>0.853</td>\n",
       "      <td>0.931</td>\n",
       "      <td>0.902</td>\n",
       "    </tr>\n",
       "    <tr>\n",
       "      <th>F1 score</th>\n",
       "      <td>0.833</td>\n",
       "      <td>0.840</td>\n",
       "      <td>0.834</td>\n",
       "      <td>0.835</td>\n",
       "      <td>0.832</td>\n",
       "      <td>0.843</td>\n",
       "      <td>0.813</td>\n",
       "      <td>0.830</td>\n",
       "      <td>0.848</td>\n",
       "    </tr>\n",
       "  </tbody>\n",
       "</table>\n",
       "</div>"
      ],
      "text/plain": [
       "           Logistic Regression  K Nearest Neighbors  \\\n",
       "accuracy                 0.827                0.832   \n",
       "precision                0.789                0.786   \n",
       "recall                   0.882                0.902   \n",
       "F1 score                 0.833                0.840   \n",
       "\n",
       "           K Nearest Neighbors (preprocessed)  Gaussian Naive Bayes  \\\n",
       "accuracy                                0.832                 0.827   \n",
       "precision                               0.807                 0.784   \n",
       "recall                                  0.863                 0.892   \n",
       "F1 score                                0.834                 0.835   \n",
       "\n",
       "           Gaussian NB (preprocessed)  Decision Tree Classifier  \\\n",
       "accuracy                        0.827                     0.832   \n",
       "precision                       0.795                     0.777   \n",
       "recall                          0.873                     0.922   \n",
       "F1 score                        0.832                     0.843   \n",
       "\n",
       "           Decision Tree Classifier (preprocessed)  Neural network  \\\n",
       "accuracy                                     0.808           0.812   \n",
       "precision                                    0.777           0.748   \n",
       "recall                                       0.853           0.931   \n",
       "F1 score                                     0.813           0.830   \n",
       "\n",
       "           Neural network (preprocessed)  \n",
       "accuracy                           0.841  \n",
       "precision                          0.800  \n",
       "recall                             0.902  \n",
       "F1 score                           0.848  "
      ]
     },
     "execution_count": 57,
     "metadata": {},
     "output_type": "execute_result"
    }
   ],
   "source": [
    "perf_comp"
   ]
  },
  {
   "cell_type": "markdown",
   "id": "f9b57fff",
   "metadata": {},
   "source": [
    "It looks like the neural network feeded with preprocessed inputs have actually provided better results of all our models. We are curious to understand what kind of data have been wrongly predicted by our model. This can help fine tune to our model such as collection of additional input data of specific type or other techniques."
   ]
  },
  {
   "cell_type": "code",
   "execution_count": 58,
   "id": "da300548",
   "metadata": {},
   "outputs": [
    {
     "data": {
      "text/html": [
       "<div>\n",
       "<style scoped>\n",
       "    .dataframe tbody tr th:only-of-type {\n",
       "        vertical-align: middle;\n",
       "    }\n",
       "\n",
       "    .dataframe tbody tr th {\n",
       "        vertical-align: top;\n",
       "    }\n",
       "\n",
       "    .dataframe thead th {\n",
       "        text-align: right;\n",
       "    }\n",
       "</style>\n",
       "<table border=\"1\" class=\"dataframe\">\n",
       "  <thead>\n",
       "    <tr style=\"text-align: right;\">\n",
       "      <th></th>\n",
       "      <th>age</th>\n",
       "      <th>shape</th>\n",
       "      <th>margin</th>\n",
       "      <th>density</th>\n",
       "      <th>actual</th>\n",
       "      <th>pred</th>\n",
       "      <th>pred_crct</th>\n",
       "    </tr>\n",
       "  </thead>\n",
       "  <tbody>\n",
       "    <tr>\n",
       "      <th>608</th>\n",
       "      <td>59.0</td>\n",
       "      <td>1.0</td>\n",
       "      <td>1.0</td>\n",
       "      <td>3.0</td>\n",
       "      <td>0</td>\n",
       "      <td>0</td>\n",
       "      <td>True</td>\n",
       "    </tr>\n",
       "    <tr>\n",
       "      <th>457</th>\n",
       "      <td>44.0</td>\n",
       "      <td>2.0</td>\n",
       "      <td>1.0</td>\n",
       "      <td>3.0</td>\n",
       "      <td>0</td>\n",
       "      <td>0</td>\n",
       "      <td>True</td>\n",
       "    </tr>\n",
       "    <tr>\n",
       "      <th>290</th>\n",
       "      <td>55.0</td>\n",
       "      <td>4.0</td>\n",
       "      <td>5.0</td>\n",
       "      <td>3.0</td>\n",
       "      <td>0</td>\n",
       "      <td>1</td>\n",
       "      <td>False</td>\n",
       "    </tr>\n",
       "    <tr>\n",
       "      <th>558</th>\n",
       "      <td>24.0</td>\n",
       "      <td>2.0</td>\n",
       "      <td>1.0</td>\n",
       "      <td>3.0</td>\n",
       "      <td>0</td>\n",
       "      <td>0</td>\n",
       "      <td>True</td>\n",
       "    </tr>\n",
       "    <tr>\n",
       "      <th>168</th>\n",
       "      <td>46.0</td>\n",
       "      <td>1.0</td>\n",
       "      <td>1.0</td>\n",
       "      <td>3.0</td>\n",
       "      <td>0</td>\n",
       "      <td>0</td>\n",
       "      <td>True</td>\n",
       "    </tr>\n",
       "  </tbody>\n",
       "</table>\n",
       "</div>"
      ],
      "text/plain": [
       "      age  shape  margin  density  actual  pred  pred_crct\n",
       "608  59.0    1.0     1.0      3.0       0     0       True\n",
       "457  44.0    2.0     1.0      3.0       0     0       True\n",
       "290  55.0    4.0     5.0      3.0       0     1      False\n",
       "558  24.0    2.0     1.0      3.0       0     0       True\n",
       "168  46.0    1.0     1.0      3.0       0     0       True"
      ]
     },
     "execution_count": 58,
     "metadata": {},
     "output_type": "execute_result"
    }
   ],
   "source": [
    "test_set = X_test.copy()\n",
    "test_set['actual'] = y_test\n",
    "test_set['pred'] = y_pred\n",
    "test_set['pred_crct'] = test_set['actual']==test_set['pred']\n",
    "test_set.head()"
   ]
  },
  {
   "cell_type": "code",
   "execution_count": 59,
   "id": "58c4510e",
   "metadata": {},
   "outputs": [
    {
     "data": {
      "text/html": [
       "<div>\n",
       "<style scoped>\n",
       "    .dataframe tbody tr th:only-of-type {\n",
       "        vertical-align: middle;\n",
       "    }\n",
       "\n",
       "    .dataframe tbody tr th {\n",
       "        vertical-align: top;\n",
       "    }\n",
       "\n",
       "    .dataframe thead th {\n",
       "        text-align: right;\n",
       "    }\n",
       "</style>\n",
       "<table border=\"1\" class=\"dataframe\">\n",
       "  <thead>\n",
       "    <tr style=\"text-align: right;\">\n",
       "      <th></th>\n",
       "      <th>age</th>\n",
       "      <th>shape</th>\n",
       "      <th>margin</th>\n",
       "      <th>density</th>\n",
       "      <th>actual</th>\n",
       "      <th>pred</th>\n",
       "    </tr>\n",
       "    <tr>\n",
       "      <th>pred_crct</th>\n",
       "      <th></th>\n",
       "      <th></th>\n",
       "      <th></th>\n",
       "      <th></th>\n",
       "      <th></th>\n",
       "      <th></th>\n",
       "    </tr>\n",
       "  </thead>\n",
       "  <tbody>\n",
       "    <tr>\n",
       "      <th>False</th>\n",
       "      <td>54.515152</td>\n",
       "      <td>3.030303</td>\n",
       "      <td>3.363636</td>\n",
       "      <td>3.000000</td>\n",
       "      <td>0.303030</td>\n",
       "      <td>0.696970</td>\n",
       "    </tr>\n",
       "    <tr>\n",
       "      <th>True</th>\n",
       "      <td>55.942857</td>\n",
       "      <td>2.725714</td>\n",
       "      <td>2.805714</td>\n",
       "      <td>2.914286</td>\n",
       "      <td>0.525714</td>\n",
       "      <td>0.525714</td>\n",
       "    </tr>\n",
       "  </tbody>\n",
       "</table>\n",
       "</div>"
      ],
      "text/plain": [
       "                 age     shape    margin   density    actual      pred\n",
       "pred_crct                                                             \n",
       "False      54.515152  3.030303  3.363636  3.000000  0.303030  0.696970\n",
       "True       55.942857  2.725714  2.805714  2.914286  0.525714  0.525714"
      ]
     },
     "execution_count": 59,
     "metadata": {},
     "output_type": "execute_result"
    }
   ],
   "source": [
    "test_set.groupby(by='pred_crct').mean()"
   ]
  },
  {
   "cell_type": "markdown",
   "id": "5714a892",
   "metadata": {},
   "source": [
    "Our model has predicted more of the observations as malignant (positive) cases but it looks to have misidentified data with higher margin values such as ill-defined and spiculated masses."
   ]
  }
 ],
 "metadata": {
  "kernelspec": {
   "display_name": "Python 3 (ipykernel)",
   "language": "python",
   "name": "python3"
  },
  "language_info": {
   "codemirror_mode": {
    "name": "ipython",
    "version": 3
   },
   "file_extension": ".py",
   "mimetype": "text/x-python",
   "name": "python",
   "nbconvert_exporter": "python",
   "pygments_lexer": "ipython3",
   "version": "3.9.7"
  }
 },
 "nbformat": 4,
 "nbformat_minor": 5
}
